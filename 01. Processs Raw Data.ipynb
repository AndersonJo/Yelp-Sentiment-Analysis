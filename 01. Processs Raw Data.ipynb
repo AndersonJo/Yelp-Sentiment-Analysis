{
 "cells": [
  {
   "cell_type": "markdown",
   "metadata": {},
   "source": [
    "# Yelp Data - Causality Analysis\n",
    "\n",
    "## RDS 데이터베이스 준비\n",
    "\n",
    "먼저 RDS 데이터베이스에 접속한뒤 다음을 실행\n",
    "\n",
    "```sql\n",
    "CREATE DATABASE yelp;\n",
    "\n",
    "GRANT SELECT, INSERT, UPDATE, DELETE, CREATE, DROP, RELOAD, PROCESS, REFERENCES, INDEX, ALTER, SHOW DATABASES, CREATE TEMPORARY TABLES, LOCK TABLES, EXECUTE, REPLICATION SLAVE, BINLOG MONITOR, CREATE VIEW, SHOW VIEW, CREATE ROUTINE, ALTER ROUTINE, CREATE USER, EVENT, TRIGGER, DELETE HISTORY, SLAVE MONITOR ON *.* TO `anderson`@`%` IDENTIFIED BY '1234567890' WITH GRANT OPTION;\n",
    "\n",
    "```\n",
    "\n",
    "Java 8 설치\n",
    "\n",
    "```bash\n",
    "$ sudo apt-get install openjdk-8-jdk\n",
    "$ sudo update-alternatives --config java\n",
    "```"
   ]
  },
  {
   "cell_type": "code",
   "execution_count": 1,
   "metadata": {
    "slideshow": {
     "slide_type": "skip"
    }
   },
   "outputs": [
    {
     "name": "stdout",
     "output_type": "stream",
     "text": [
      "2022-11-12 00:11:18.325 +0900: Embulk v0.9.24\n",
      "\n",
      "Gem plugin path is: /home/anderson/.embulk/lib/gems\n",
      "\n",
      "Successfully installed embulk-input-mysql-0.13.0-java\n",
      "Successfully installed embulk-output-mysql-0.10.2-java\n",
      "2 gems installed\n",
      "%pylab is deprecated, use %matplotlib inline and import the required libraries.\n",
      "Populating the interactive namespace from numpy and matplotlib\n"
     ]
    }
   ],
   "source": [
    "# Dependencies\n",
    "!pip install -q pymysql h3 \n",
    "\n",
    "# EMBULK\n",
    "!embulk gem install embulk-input-mysql embulk-output-mysql embulk-input-parquet_hadoop\n",
    "\n",
    "%pylab inline\n",
    "\n",
    "import numpy as np\n",
    "import pandas as pd\n",
    "import pandas_profiling\n",
    "import json\n",
    "import pymysql\n",
    "import pickle\n",
    "import seaborn as sns\n",
    "import csv\n",
    "import re\n",
    "import os\n",
    "import shutil\n",
    "\n",
    "from pathlib import Path\n",
    "from keplergl import KeplerGl \n",
    "from h3 import h3\n",
    "from tqdm.notebook import tqdm_notebook as tqdm"
   ]
  },
  {
   "cell_type": "markdown",
   "metadata": {
    "slideshow": {
     "slide_type": "slide"
    }
   },
   "source": [
    "# Data\n",
    "\n",
    "## Business"
   ]
  },
  {
   "cell_type": "code",
   "execution_count": 2,
   "metadata": {
    "slideshow": {
     "slide_type": "fragment"
    }
   },
   "outputs": [],
   "source": [
    "conn = pymysql.connect(host='localhost', \n",
    "                       user='anderson', \n",
    "                       password='1234567890',\n",
    "                       db='yelp', charset='utf8')"
   ]
  },
  {
   "cell_type": "code",
   "execution_count": 3,
   "metadata": {},
   "outputs": [],
   "source": [
    "import pandas as pd\n",
    "import kaggle.api as kaggle\n",
    "from tempfile import gettempdir\n",
    "from pathlib import Path\n",
    "\n",
    "data_dir = Path(gettempdir()) / 'yelp-dataset'\n",
    "if not data_dir.exists():\n",
    "    kaggle.authenticate()\n",
    "    kaggle.dataset_download_files('yelp-dataset/yelp-dataset',\n",
    "                                  data_dir, \n",
    "                                  unzip=True)"
   ]
  },
  {
   "cell_type": "code",
   "execution_count": 4,
   "metadata": {
    "slideshow": {
     "slide_type": "fragment"
    }
   },
   "outputs": [],
   "source": [
    "bs_data = pd.read_json('/tmp/yelp-dataset/yelp_academic_dataset_business.json',\n",
    "                       lines=True)\n",
    "\n",
    "# H3\n",
    "bs_data['h3'] = bs_data[['latitude', 'longitude']].apply(\n",
    "    lambda x: h3.geo_to_h3(x['latitude'], x['longitude'], 7), axis=1)\n",
    "\n",
    "# Rank & Drop columns\n",
    "bs_data['rank'] = bs_data['stars'] * bs_data['review_count']\n",
    "bs_data.drop(['address', 'postal_code', 'hours', 'attributes'], axis=1, inplace=True)\n",
    "\n",
    "# Category\n",
    "bs_data['categories'] = bs_data['categories'].str.lower()\n",
    "bs_data['categories'].fillna('', inplace=True)\n"
   ]
  },
  {
   "cell_type": "markdown",
   "metadata": {
    "slideshow": {
     "slide_type": "slide"
    }
   },
   "source": [
    "## Business visualization"
   ]
  },
  {
   "cell_type": "code",
   "execution_count": 5,
   "metadata": {
    "slideshow": {
     "slide_type": "-"
    }
   },
   "outputs": [
    {
     "name": "stdout",
     "output_type": "stream",
     "text": [
      "shape: (150346, 12)\n"
     ]
    },
    {
     "data": {
      "text/html": [
       "<div>\n",
       "<style scoped>\n",
       "    .dataframe tbody tr th:only-of-type {\n",
       "        vertical-align: middle;\n",
       "    }\n",
       "\n",
       "    .dataframe tbody tr th {\n",
       "        vertical-align: top;\n",
       "    }\n",
       "\n",
       "    .dataframe thead th {\n",
       "        text-align: right;\n",
       "    }\n",
       "</style>\n",
       "<table border=\"1\" class=\"dataframe\">\n",
       "  <thead>\n",
       "    <tr style=\"text-align: right;\">\n",
       "      <th></th>\n",
       "      <th>business_id</th>\n",
       "      <th>name</th>\n",
       "      <th>city</th>\n",
       "      <th>state</th>\n",
       "      <th>latitude</th>\n",
       "      <th>longitude</th>\n",
       "      <th>stars</th>\n",
       "      <th>review_count</th>\n",
       "      <th>is_open</th>\n",
       "      <th>categories</th>\n",
       "      <th>h3</th>\n",
       "      <th>rank</th>\n",
       "    </tr>\n",
       "  </thead>\n",
       "  <tbody>\n",
       "    <tr>\n",
       "      <th>0</th>\n",
       "      <td>Pns2l4eNsfO8kk83dixA6A</td>\n",
       "      <td>Abby Rappoport, LAC, CMQ</td>\n",
       "      <td>Santa Barbara</td>\n",
       "      <td>CA</td>\n",
       "      <td>34.426679</td>\n",
       "      <td>-119.711197</td>\n",
       "      <td>5.0</td>\n",
       "      <td>7</td>\n",
       "      <td>0</td>\n",
       "      <td>doctors, traditional chinese medicine, naturop...</td>\n",
       "      <td>872912649ffffff</td>\n",
       "      <td>35.0</td>\n",
       "    </tr>\n",
       "    <tr>\n",
       "      <th>1</th>\n",
       "      <td>mpf3x-BjTdTEA3yCZrAYPw</td>\n",
       "      <td>The UPS Store</td>\n",
       "      <td>Affton</td>\n",
       "      <td>MO</td>\n",
       "      <td>38.551126</td>\n",
       "      <td>-90.335695</td>\n",
       "      <td>3.0</td>\n",
       "      <td>15</td>\n",
       "      <td>1</td>\n",
       "      <td>shipping centers, local services, notaries, ma...</td>\n",
       "      <td>87264624effffff</td>\n",
       "      <td>45.0</td>\n",
       "    </tr>\n",
       "    <tr>\n",
       "      <th>2</th>\n",
       "      <td>tUFrWirKiKi_TAnsVWINQQ</td>\n",
       "      <td>Target</td>\n",
       "      <td>Tucson</td>\n",
       "      <td>AZ</td>\n",
       "      <td>32.223236</td>\n",
       "      <td>-110.880452</td>\n",
       "      <td>3.5</td>\n",
       "      <td>22</td>\n",
       "      <td>0</td>\n",
       "      <td>department stores, shopping, fashion, home &amp; g...</td>\n",
       "      <td>8748e8554ffffff</td>\n",
       "      <td>77.0</td>\n",
       "    </tr>\n",
       "    <tr>\n",
       "      <th>3</th>\n",
       "      <td>MTSW4McQd7CbVtyjqoe9mw</td>\n",
       "      <td>St Honore Pastries</td>\n",
       "      <td>Philadelphia</td>\n",
       "      <td>PA</td>\n",
       "      <td>39.955505</td>\n",
       "      <td>-75.155564</td>\n",
       "      <td>4.0</td>\n",
       "      <td>80</td>\n",
       "      <td>1</td>\n",
       "      <td>restaurants, food, bubble tea, coffee &amp; tea, b...</td>\n",
       "      <td>872a134d4ffffff</td>\n",
       "      <td>320.0</td>\n",
       "    </tr>\n",
       "    <tr>\n",
       "      <th>4</th>\n",
       "      <td>mWMc6_wTdE0EUBKIGXDVfA</td>\n",
       "      <td>Perkiomen Valley Brewery</td>\n",
       "      <td>Green Lane</td>\n",
       "      <td>PA</td>\n",
       "      <td>40.338183</td>\n",
       "      <td>-75.471659</td>\n",
       "      <td>4.5</td>\n",
       "      <td>13</td>\n",
       "      <td>1</td>\n",
       "      <td>brewpubs, breweries, food</td>\n",
       "      <td>872aac932ffffff</td>\n",
       "      <td>58.5</td>\n",
       "    </tr>\n",
       "  </tbody>\n",
       "</table>\n",
       "</div>"
      ],
      "text/plain": [
       "              business_id                      name           city state  \\\n",
       "0  Pns2l4eNsfO8kk83dixA6A  Abby Rappoport, LAC, CMQ  Santa Barbara    CA   \n",
       "1  mpf3x-BjTdTEA3yCZrAYPw             The UPS Store         Affton    MO   \n",
       "2  tUFrWirKiKi_TAnsVWINQQ                    Target         Tucson    AZ   \n",
       "3  MTSW4McQd7CbVtyjqoe9mw        St Honore Pastries   Philadelphia    PA   \n",
       "4  mWMc6_wTdE0EUBKIGXDVfA  Perkiomen Valley Brewery     Green Lane    PA   \n",
       "\n",
       "    latitude   longitude  stars  review_count  is_open  \\\n",
       "0  34.426679 -119.711197    5.0             7        0   \n",
       "1  38.551126  -90.335695    3.0            15        1   \n",
       "2  32.223236 -110.880452    3.5            22        0   \n",
       "3  39.955505  -75.155564    4.0            80        1   \n",
       "4  40.338183  -75.471659    4.5            13        1   \n",
       "\n",
       "                                          categories               h3   rank  \n",
       "0  doctors, traditional chinese medicine, naturop...  872912649ffffff   35.0  \n",
       "1  shipping centers, local services, notaries, ma...  87264624effffff   45.0  \n",
       "2  department stores, shopping, fashion, home & g...  8748e8554ffffff   77.0  \n",
       "3  restaurants, food, bubble tea, coffee & tea, b...  872a134d4ffffff  320.0  \n",
       "4                          brewpubs, breweries, food  872aac932ffffff   58.5  "
      ]
     },
     "metadata": {},
     "output_type": "display_data"
    }
   ],
   "source": [
    "bs_data = bs_data.reset_index().drop('index', axis=1)\n",
    "bs_data.to_csv('/tmp/yelp-dataset/business.csv', index=False)\n",
    "print('shape:', bs_data.shape)\n",
    "display(bs_data.head())"
   ]
  },
  {
   "cell_type": "markdown",
   "metadata": {
    "slideshow": {
     "slide_type": "slide"
    }
   },
   "source": [
    "## Business Map Visualization"
   ]
  },
  {
   "cell_type": "code",
   "execution_count": 6,
   "metadata": {
    "slideshow": {
     "slide_type": "-"
    }
   },
   "outputs": [
    {
     "name": "stdout",
     "output_type": "stream",
     "text": [
      "User Guide: https://docs.kepler.gl/docs/keplergl-jupyter\n"
     ]
    },
    {
     "data": {
      "application/vnd.jupyter.widget-view+json": {
       "model_id": "7a3ced7db1f842299028b818812aa7ec",
       "version_major": 2,
       "version_minor": 0
      },
      "text/plain": [
       "KeplerGl(data={'unnamed': {'index': [0, 1, 2, 3, 4, 5, 6, 7, 8, 9, 10, 11, 12, 13, 14, 15, 16, 17, 18, 19, 20,…"
      ]
     },
     "metadata": {},
     "output_type": "display_data"
    }
   ],
   "source": [
    "# Kepler\n",
    "bs_m = KeplerGl(height=500)\n",
    "bs_m.add_data(bs_data)\n",
    "bs_m"
   ]
  },
  {
   "cell_type": "code",
   "execution_count": 8,
   "metadata": {
    "slideshow": {
     "slide_type": "skip"
    }
   },
   "outputs": [
    {
     "name": "stdout",
     "output_type": "stream",
     "text": [
      "Map saved to business.html!\n",
      "Opening in existing browser session.\n"
     ]
    }
   ],
   "source": [
    "pickle.dump(bs_m.get_state(), open('states/business_map.pickle', 'wb'))\n",
    "bs_m.save_to_html(file_name='business.html')\n",
    "!google-chrome business.html"
   ]
  },
  {
   "cell_type": "code",
   "execution_count": 7,
   "metadata": {
    "scrolled": true,
    "slideshow": {
     "slide_type": "slide"
    }
   },
   "outputs": [
    {
     "name": "stdout",
     "output_type": "stream",
     "text": [
      "2022-11-12 00:11:36.708 +0900: Embulk v0.9.24\n",
      "in:\n",
      "  type: file\n",
      "  path_prefix: /tmp/yelp-dataset/business.csv\n",
      "  parser:\n",
      "    type: csv\n",
      "    charset: UTF-8\n",
      "    newline: LF\n",
      "    delimiter: ','\n",
      "    quote: '\"'\n",
      "    escape: '\"'\n",
      "    trim_if_not_quoted: false\n",
      "    skip_header_lines: 1\n",
      "    allow_extra_columns: false\n",
      "    allow_optional_columns: false\n",
      "    columns:\n",
      "    - {name: business_id, type: string}\n",
      "    - {name: name, type: string}\n",
      "    - {name: city, type: string}\n",
      "    - {name: state, type: string}\n",
      "    - {name: latitude, type: double}\n",
      "    - {name: longitude, type: double}\n",
      "    - {name: stars, type: double}\n",
      "    - {name: review_count, type: long}\n",
      "    - {name: is_open, type: long}\n",
      "    - {name: categories, type: string}\n",
      "    - {name: h3, type: string}\n",
      "    - {name: rank, type: double}\n",
      "out: {type: mysql, host: localhost, user: anderson, password: '1234567890', database: yelp,\n",
      "  table: business, mode: replace}\n",
      "\n",
      "Created 'config_business.yml' file.\n",
      "2022-11-12 00:11:41.193 +0900: Embulk v0.9.24\n"
     ]
    }
   ],
   "source": [
    "!embulk guess seed_business.yml -o config_business.yml -l error\n",
    "!embulk run config_business.yml -l error"
   ]
  },
  {
   "cell_type": "code",
   "execution_count": 8,
   "metadata": {
    "slideshow": {
     "slide_type": "-"
    }
   },
   "outputs": [
    {
     "data": {
      "text/plain": [
       "()"
      ]
     },
     "execution_count": 8,
     "metadata": {},
     "output_type": "execute_result"
    }
   ],
   "source": [
    "conn = pymysql.connect(host='localhost', \n",
    "                       user='anderson',\n",
    "                       password='1234567890',\n",
    "                       db='yelp', \n",
    "                       charset='utf8')\n",
    "with conn.cursor() as cursor:\n",
    "    cursor.execute('create index if not exists idx_business_on_business_id on business (business_id(40));')\n",
    "    cursor.execute('create index if not exists idx_business_on_state on business (state(5));')\n",
    "    cursor.execute('create index if not exists idx_business_on_h3 on business (h3(20));')\n",
    "cursor.fetchall()"
   ]
  },
  {
   "cell_type": "markdown",
   "metadata": {
    "slideshow": {
     "slide_type": "slide"
    }
   },
   "source": [
    "### 카테고리 "
   ]
  },
  {
   "cell_type": "code",
   "execution_count": 15,
   "metadata": {
    "slideshow": {
     "slide_type": "fragment"
    }
   },
   "outputs": [
    {
     "data": {
      "text/plain": [
       "[('restaurants', 52268),\n",
       " ('food', 27781),\n",
       " ('shopping', 24395),\n",
       " ('home services', 14356),\n",
       " ('beauty & spas', 14292),\n",
       " ('nightlife', 12281),\n",
       " ('health & medical', 11890),\n",
       " ('local services', 11198),\n",
       " ('bars', 11065),\n",
       " ('automotive', 10773)]"
      ]
     },
     "execution_count": 15,
     "metadata": {},
     "output_type": "execute_result"
    }
   ],
   "source": [
    "from collections import Counter\n",
    "\n",
    "category_df = bs_data['categories'].str.split(',')\n",
    "\n",
    "counter = {}\n",
    "for row in category_df:\n",
    "    if row is None:\n",
    "        continue\n",
    "    for category in row:\n",
    "        category = category.strip().lower()\n",
    "        counter.setdefault(category, 0)\n",
    "        counter[category] += 1\n",
    "counter = Counter(counter)\n",
    "counter.most_common(10)"
   ]
  },
  {
   "cell_type": "markdown",
   "metadata": {
    "slideshow": {
     "slide_type": "skip"
    }
   },
   "source": [
    "### star distribution"
   ]
  },
  {
   "cell_type": "code",
   "execution_count": 22,
   "metadata": {},
   "outputs": [
    {
     "data": {
      "text/html": [
       "<div>\n",
       "<style scoped>\n",
       "    .dataframe tbody tr th:only-of-type {\n",
       "        vertical-align: middle;\n",
       "    }\n",
       "\n",
       "    .dataframe tbody tr th {\n",
       "        vertical-align: top;\n",
       "    }\n",
       "\n",
       "    .dataframe thead th {\n",
       "        text-align: right;\n",
       "    }\n",
       "</style>\n",
       "<table border=\"1\" class=\"dataframe\">\n",
       "  <thead>\n",
       "    <tr style=\"text-align: right;\">\n",
       "      <th></th>\n",
       "      <th>business_id</th>\n",
       "    </tr>\n",
       "    <tr>\n",
       "      <th>stars</th>\n",
       "      <th></th>\n",
       "    </tr>\n",
       "  </thead>\n",
       "  <tbody>\n",
       "    <tr>\n",
       "      <th>1.0</th>\n",
       "      <td>1986</td>\n",
       "    </tr>\n",
       "    <tr>\n",
       "      <th>1.5</th>\n",
       "      <td>4932</td>\n",
       "    </tr>\n",
       "    <tr>\n",
       "      <th>2.0</th>\n",
       "      <td>9527</td>\n",
       "    </tr>\n",
       "    <tr>\n",
       "      <th>2.5</th>\n",
       "      <td>14316</td>\n",
       "    </tr>\n",
       "    <tr>\n",
       "      <th>3.0</th>\n",
       "      <td>18453</td>\n",
       "    </tr>\n",
       "    <tr>\n",
       "      <th>3.5</th>\n",
       "      <td>26519</td>\n",
       "    </tr>\n",
       "    <tr>\n",
       "      <th>4.0</th>\n",
       "      <td>31125</td>\n",
       "    </tr>\n",
       "    <tr>\n",
       "      <th>4.5</th>\n",
       "      <td>27181</td>\n",
       "    </tr>\n",
       "    <tr>\n",
       "      <th>5.0</th>\n",
       "      <td>16307</td>\n",
       "    </tr>\n",
       "  </tbody>\n",
       "</table>\n",
       "</div>"
      ],
      "text/plain": [
       "       business_id\n",
       "stars             \n",
       "1.0           1986\n",
       "1.5           4932\n",
       "2.0           9527\n",
       "2.5          14316\n",
       "3.0          18453\n",
       "3.5          26519\n",
       "4.0          31125\n",
       "4.5          27181\n",
       "5.0          16307"
      ]
     },
     "execution_count": 22,
     "metadata": {},
     "output_type": "execute_result"
    }
   ],
   "source": [
    "star_count"
   ]
  },
  {
   "cell_type": "code",
   "execution_count": 24,
   "metadata": {
    "slideshow": {
     "slide_type": "skip"
    }
   },
   "outputs": [
    {
     "data": {
      "text/plain": [
       "<AxesSubplot:xlabel='stars_int', ylabel='business_id'>"
      ]
     },
     "execution_count": 24,
     "metadata": {},
     "output_type": "execute_result"
    },
    {
     "data": {
      "image/png": "[encoded data removed]",
      "text/plain": [
       "<Figure size 1400x500 with 2 Axes>"
      ]
     },
     "metadata": {},
     "output_type": "display_data"
    }
   ],
   "source": [
    "fig, plots = subplots(1, 2, figsize=(14, 5))\n",
    "\n",
    "star_count = bs_data[['stars', 'business_id']].groupby('stars').count()\n",
    "sns.barplot(x=star_count.index, y='business_id', data=star_count, ax=plots[0])\n",
    "\n",
    "bs_data['stars_int'] = bs_data['stars'].astype('int')\n",
    "star_count = bs_data[['stars_int', 'business_id']].groupby('stars_int').count()\n",
    "sns.barplot(x=star_count.index, y=star_count.business_id, data=star_count, ax=plots[1])"
   ]
  },
  {
   "cell_type": "markdown",
   "metadata": {
    "slideshow": {
     "slide_type": "slide"
    }
   },
   "source": [
    "## Checking Data"
   ]
  },
  {
   "cell_type": "code",
   "execution_count": 22,
   "metadata": {
    "slideshow": {
     "slide_type": "fragment"
    }
   },
   "outputs": [
    {
     "data": {
      "application/vnd.jupyter.widget-view+json": {
       "model_id": "2d09e5e395624444820730a57fda0527",
       "version_major": 2,
       "version_minor": 0
      },
      "text/plain": [
       "  0%|          | 0/70 [00:00<?, ?it/s]"
      ]
     },
     "metadata": {},
     "output_type": "display_data"
    },
    {
     "name": "stdout",
     "output_type": "stream",
     "text": [
      "<class 'pandas.core.frame.DataFrame'>\n",
      "RangeIndex: 13356875 entries, 0 to 13356874\n",
      "Data columns (total 5 columns):\n",
      " #   Column       Dtype         \n",
      "---  ------       -----         \n",
      " 0   business_id  object        \n",
      " 1   checkin      datetime64[ns]\n",
      " 2   year         int64         \n",
      " 3   month        int64         \n",
      " 4   hour         int64         \n",
      "dtypes: datetime64[ns](1), int64(3), object(1)\n",
      "memory usage: 509.5+ MB\n"
     ]
    }
   ],
   "source": [
    "def create_checking_data(\n",
    "    input_file='/tmp/yelp-dataset/yelp_academic_dataset_checkin.json',\n",
    "    output_dir='./yelp-dataset/checkin', \n",
    "    force=False, max_iter=70):\n",
    "    \"\"\"\n",
    "    연산에 너무 오래 걸리고, 구글 코랩에서는 돌아가지 않음. \n",
    "    yelp-dataset/checkin.csv 파일이 완료된 파일이니 이거 사용\n",
    "    \"\"\"\n",
    "    output_dir = Path(output_dir)\n",
    "    if output_dir.exists():\n",
    "        if force:\n",
    "            shutil.rmtree(output_dir)\n",
    "        else:\n",
    "            print('checking data has been already created')\n",
    "            return\n",
    "    \n",
    "    if not output_dir.exists():\n",
    "        os.mkdir(output_dir)\n",
    "    \n",
    "    \n",
    "    ck_chunk = pd.read_json(input_file, lines=True, chunksize=2000)\n",
    "    business_ids = set(bs_data['business_id'].unique())\n",
    "    \n",
    "    for i, ck_data in tqdm(enumerate(ck_chunk), total=max_iter):\n",
    "        if i >= max_iter:\n",
    "            print('Reached Max Iteration. Break!')\n",
    "            break\n",
    "\n",
    "        ck_data = ck_data[ck_data['business_id'].isin(business_ids)]\n",
    "        ck_data.set_index('business_id', inplace=True)\n",
    "\n",
    "        # Preprocessing\n",
    "        def convert_datetimes(x):\n",
    "            x = pd.to_datetime(x)\n",
    "            return x\n",
    "\n",
    "        dts_df = ck_data['date'].str.split(',').apply(convert_datetimes)\n",
    "        dts_df = pd.DataFrame(dts_df.tolist(), index=dts_df.index).stack().reset_index()\n",
    "        dts_df.drop('level_1', axis=1, inplace=True)\n",
    "        dts_df.rename({0: 'checkin'}, axis=1, inplace=True)\n",
    "        dts_df['year'] = dts_df['checkin'].dt.year\n",
    "        dts_df['month'] = dts_df['checkin'].dt.month\n",
    "        dts_df['hour'] = dts_df['checkin'].dt.hour\n",
    "\n",
    "        dts_df.to_parquet(output_dir / f'checkin{i:02}.parquet', index=False)\n",
    "\n",
    "# create_checking_data(max_iter=70, force=True)\n",
    "dts_df = pd.read_parquet('./yelp-dataset/checkin')\n",
    "dts_df.to_csv('/tmp/yelp-dataset/checkin.csv', sep='|', index=False)\n",
    "dts_df.info()"
   ]
  },
  {
   "cell_type": "code",
   "execution_count": 34,
   "metadata": {
    "slideshow": {
     "slide_type": "slide"
    }
   },
   "outputs": [
    {
     "name": "stdout",
     "output_type": "stream",
     "text": [
      "2022-11-12 01:58:21.140 +0900: Embulk v0.9.24\n",
      "in:\n",
      "  type: file\n",
      "  path_prefix: /tmp/yelp-dataset/checkin.csv\n",
      "  parser:\n",
      "    type: csv\n",
      "    delimiter: \\t\n",
      "    charset: UTF-8\n",
      "    newline: LF\n",
      "    quote: '\"'\n",
      "    escape: '\"'\n",
      "    trim_if_not_quoted: false\n",
      "    skip_header_lines: 0\n",
      "    allow_extra_columns: false\n",
      "    allow_optional_columns: false\n",
      "    columns:\n",
      "    - {name: c0, type: string}\n",
      "out: {type: mysql, host: localhost, user: anderson, password: '1234567890', database: yelp,\n",
      "  table: checkin, mode: replace}\n",
      "\n",
      "Created 'config_checkin.yml' file.\n",
      "2022-11-12 01:58:25.117 +0900: Embulk v0.9.24\n"
     ]
    }
   ],
   "source": [
    "!embulk guess seed_checkin.yml -o config_checkin.yml -l error\n",
    "!embulk run config_checkin.yml -l error"
   ]
  },
  {
   "cell_type": "code",
   "execution_count": 35,
   "metadata": {
    "slideshow": {
     "slide_type": "skip"
    }
   },
   "outputs": [
    {
     "ename": "OperationalError",
     "evalue": "(1072, \"Key column 'business_id' doesn't exist in table\")",
     "output_type": "error",
     "traceback": [
      "\u001b[0;31m---------------------------------------------------------------------------\u001b[0m",
      "\u001b[0;31mOperationalError\u001b[0m                          Traceback (most recent call last)",
      "Cell \u001b[0;32mIn [35], line 2\u001b[0m\n\u001b[1;32m      1\u001b[0m \u001b[38;5;28;01mwith\u001b[39;00m conn\u001b[38;5;241m.\u001b[39mcursor() \u001b[38;5;28;01mas\u001b[39;00m cursor:\n\u001b[0;32m----> 2\u001b[0m     \u001b[43mcursor\u001b[49m\u001b[38;5;241;43m.\u001b[39;49m\u001b[43mexecute\u001b[49m\u001b[43m(\u001b[49m\u001b[38;5;124;43m'\u001b[39;49m\u001b[38;5;124;43mcreate index if not exists idx_checkin_on_business_id on checkin (business_id(40));\u001b[39;49m\u001b[38;5;124;43m'\u001b[39;49m\u001b[43m)\u001b[49m\n\u001b[1;32m      3\u001b[0m     cursor\u001b[38;5;241m.\u001b[39mexecute(\u001b[38;5;124m'\u001b[39m\u001b[38;5;124mcreate index if not exists idx_checkin_on_year on checkin (year);\u001b[39m\u001b[38;5;124m'\u001b[39m)\n\u001b[1;32m      4\u001b[0m     cursor\u001b[38;5;241m.\u001b[39mexecute(\u001b[38;5;124m'\u001b[39m\u001b[38;5;124mcreate index if not exists idx_checkin_on_month on checkin (month);\u001b[39m\u001b[38;5;124m'\u001b[39m)\n",
      "File \u001b[0;32m~/.pyenv/versions/3.10.8/lib/python3.10/site-packages/pymysql/cursors.py:148\u001b[0m, in \u001b[0;36mCursor.execute\u001b[0;34m(self, query, args)\u001b[0m\n\u001b[1;32m    144\u001b[0m     \u001b[38;5;28;01mpass\u001b[39;00m\n\u001b[1;32m    146\u001b[0m query \u001b[38;5;241m=\u001b[39m \u001b[38;5;28mself\u001b[39m\u001b[38;5;241m.\u001b[39mmogrify(query, args)\n\u001b[0;32m--> 148\u001b[0m result \u001b[38;5;241m=\u001b[39m \u001b[38;5;28;43mself\u001b[39;49m\u001b[38;5;241;43m.\u001b[39;49m\u001b[43m_query\u001b[49m\u001b[43m(\u001b[49m\u001b[43mquery\u001b[49m\u001b[43m)\u001b[49m\n\u001b[1;32m    149\u001b[0m \u001b[38;5;28mself\u001b[39m\u001b[38;5;241m.\u001b[39m_executed \u001b[38;5;241m=\u001b[39m query\n\u001b[1;32m    150\u001b[0m \u001b[38;5;28;01mreturn\u001b[39;00m result\n",
      "File \u001b[0;32m~/.pyenv/versions/3.10.8/lib/python3.10/site-packages/pymysql/cursors.py:310\u001b[0m, in \u001b[0;36mCursor._query\u001b[0;34m(self, q)\u001b[0m\n\u001b[1;32m    308\u001b[0m \u001b[38;5;28mself\u001b[39m\u001b[38;5;241m.\u001b[39m_last_executed \u001b[38;5;241m=\u001b[39m q\n\u001b[1;32m    309\u001b[0m \u001b[38;5;28mself\u001b[39m\u001b[38;5;241m.\u001b[39m_clear_result()\n\u001b[0;32m--> 310\u001b[0m \u001b[43mconn\u001b[49m\u001b[38;5;241;43m.\u001b[39;49m\u001b[43mquery\u001b[49m\u001b[43m(\u001b[49m\u001b[43mq\u001b[49m\u001b[43m)\u001b[49m\n\u001b[1;32m    311\u001b[0m \u001b[38;5;28mself\u001b[39m\u001b[38;5;241m.\u001b[39m_do_get_result()\n\u001b[1;32m    312\u001b[0m \u001b[38;5;28;01mreturn\u001b[39;00m \u001b[38;5;28mself\u001b[39m\u001b[38;5;241m.\u001b[39mrowcount\n",
      "File \u001b[0;32m~/.pyenv/versions/3.10.8/lib/python3.10/site-packages/pymysql/connections.py:548\u001b[0m, in \u001b[0;36mConnection.query\u001b[0;34m(self, sql, unbuffered)\u001b[0m\n\u001b[1;32m    546\u001b[0m     sql \u001b[38;5;241m=\u001b[39m sql\u001b[38;5;241m.\u001b[39mencode(\u001b[38;5;28mself\u001b[39m\u001b[38;5;241m.\u001b[39mencoding, \u001b[38;5;124m\"\u001b[39m\u001b[38;5;124msurrogateescape\u001b[39m\u001b[38;5;124m\"\u001b[39m)\n\u001b[1;32m    547\u001b[0m \u001b[38;5;28mself\u001b[39m\u001b[38;5;241m.\u001b[39m_execute_command(COMMAND\u001b[38;5;241m.\u001b[39mCOM_QUERY, sql)\n\u001b[0;32m--> 548\u001b[0m \u001b[38;5;28mself\u001b[39m\u001b[38;5;241m.\u001b[39m_affected_rows \u001b[38;5;241m=\u001b[39m \u001b[38;5;28;43mself\u001b[39;49m\u001b[38;5;241;43m.\u001b[39;49m\u001b[43m_read_query_result\u001b[49m\u001b[43m(\u001b[49m\u001b[43munbuffered\u001b[49m\u001b[38;5;241;43m=\u001b[39;49m\u001b[43munbuffered\u001b[49m\u001b[43m)\u001b[49m\n\u001b[1;32m    549\u001b[0m \u001b[38;5;28;01mreturn\u001b[39;00m \u001b[38;5;28mself\u001b[39m\u001b[38;5;241m.\u001b[39m_affected_rows\n",
      "File \u001b[0;32m~/.pyenv/versions/3.10.8/lib/python3.10/site-packages/pymysql/connections.py:775\u001b[0m, in \u001b[0;36mConnection._read_query_result\u001b[0;34m(self, unbuffered)\u001b[0m\n\u001b[1;32m    773\u001b[0m \u001b[38;5;28;01melse\u001b[39;00m:\n\u001b[1;32m    774\u001b[0m     result \u001b[38;5;241m=\u001b[39m MySQLResult(\u001b[38;5;28mself\u001b[39m)\n\u001b[0;32m--> 775\u001b[0m     \u001b[43mresult\u001b[49m\u001b[38;5;241;43m.\u001b[39;49m\u001b[43mread\u001b[49m\u001b[43m(\u001b[49m\u001b[43m)\u001b[49m\n\u001b[1;32m    776\u001b[0m \u001b[38;5;28mself\u001b[39m\u001b[38;5;241m.\u001b[39m_result \u001b[38;5;241m=\u001b[39m result\n\u001b[1;32m    777\u001b[0m \u001b[38;5;28;01mif\u001b[39;00m result\u001b[38;5;241m.\u001b[39mserver_status \u001b[38;5;129;01mis\u001b[39;00m \u001b[38;5;129;01mnot\u001b[39;00m \u001b[38;5;28;01mNone\u001b[39;00m:\n",
      "File \u001b[0;32m~/.pyenv/versions/3.10.8/lib/python3.10/site-packages/pymysql/connections.py:1156\u001b[0m, in \u001b[0;36mMySQLResult.read\u001b[0;34m(self)\u001b[0m\n\u001b[1;32m   1154\u001b[0m \u001b[38;5;28;01mdef\u001b[39;00m \u001b[38;5;21mread\u001b[39m(\u001b[38;5;28mself\u001b[39m):\n\u001b[1;32m   1155\u001b[0m     \u001b[38;5;28;01mtry\u001b[39;00m:\n\u001b[0;32m-> 1156\u001b[0m         first_packet \u001b[38;5;241m=\u001b[39m \u001b[38;5;28;43mself\u001b[39;49m\u001b[38;5;241;43m.\u001b[39;49m\u001b[43mconnection\u001b[49m\u001b[38;5;241;43m.\u001b[39;49m\u001b[43m_read_packet\u001b[49m\u001b[43m(\u001b[49m\u001b[43m)\u001b[49m\n\u001b[1;32m   1158\u001b[0m         \u001b[38;5;28;01mif\u001b[39;00m first_packet\u001b[38;5;241m.\u001b[39mis_ok_packet():\n\u001b[1;32m   1159\u001b[0m             \u001b[38;5;28mself\u001b[39m\u001b[38;5;241m.\u001b[39m_read_ok_packet(first_packet)\n",
      "File \u001b[0;32m~/.pyenv/versions/3.10.8/lib/python3.10/site-packages/pymysql/connections.py:725\u001b[0m, in \u001b[0;36mConnection._read_packet\u001b[0;34m(self, packet_type)\u001b[0m\n\u001b[1;32m    723\u001b[0m     \u001b[38;5;28;01mif\u001b[39;00m \u001b[38;5;28mself\u001b[39m\u001b[38;5;241m.\u001b[39m_result \u001b[38;5;129;01mis\u001b[39;00m \u001b[38;5;129;01mnot\u001b[39;00m \u001b[38;5;28;01mNone\u001b[39;00m \u001b[38;5;129;01mand\u001b[39;00m \u001b[38;5;28mself\u001b[39m\u001b[38;5;241m.\u001b[39m_result\u001b[38;5;241m.\u001b[39munbuffered_active \u001b[38;5;129;01mis\u001b[39;00m \u001b[38;5;28;01mTrue\u001b[39;00m:\n\u001b[1;32m    724\u001b[0m         \u001b[38;5;28mself\u001b[39m\u001b[38;5;241m.\u001b[39m_result\u001b[38;5;241m.\u001b[39munbuffered_active \u001b[38;5;241m=\u001b[39m \u001b[38;5;28;01mFalse\u001b[39;00m\n\u001b[0;32m--> 725\u001b[0m     \u001b[43mpacket\u001b[49m\u001b[38;5;241;43m.\u001b[39;49m\u001b[43mraise_for_error\u001b[49m\u001b[43m(\u001b[49m\u001b[43m)\u001b[49m\n\u001b[1;32m    726\u001b[0m \u001b[38;5;28;01mreturn\u001b[39;00m packet\n",
      "File \u001b[0;32m~/.pyenv/versions/3.10.8/lib/python3.10/site-packages/pymysql/protocol.py:221\u001b[0m, in \u001b[0;36mMysqlPacket.raise_for_error\u001b[0;34m(self)\u001b[0m\n\u001b[1;32m    219\u001b[0m \u001b[38;5;28;01mif\u001b[39;00m DEBUG:\n\u001b[1;32m    220\u001b[0m     \u001b[38;5;28mprint\u001b[39m(\u001b[38;5;124m\"\u001b[39m\u001b[38;5;124merrno =\u001b[39m\u001b[38;5;124m\"\u001b[39m, errno)\n\u001b[0;32m--> 221\u001b[0m \u001b[43merr\u001b[49m\u001b[38;5;241;43m.\u001b[39;49m\u001b[43mraise_mysql_exception\u001b[49m\u001b[43m(\u001b[49m\u001b[38;5;28;43mself\u001b[39;49m\u001b[38;5;241;43m.\u001b[39;49m\u001b[43m_data\u001b[49m\u001b[43m)\u001b[49m\n",
      "File \u001b[0;32m~/.pyenv/versions/3.10.8/lib/python3.10/site-packages/pymysql/err.py:143\u001b[0m, in \u001b[0;36mraise_mysql_exception\u001b[0;34m(data)\u001b[0m\n\u001b[1;32m    141\u001b[0m \u001b[38;5;28;01mif\u001b[39;00m errorclass \u001b[38;5;129;01mis\u001b[39;00m \u001b[38;5;28;01mNone\u001b[39;00m:\n\u001b[1;32m    142\u001b[0m     errorclass \u001b[38;5;241m=\u001b[39m InternalError \u001b[38;5;28;01mif\u001b[39;00m errno \u001b[38;5;241m<\u001b[39m \u001b[38;5;241m1000\u001b[39m \u001b[38;5;28;01melse\u001b[39;00m OperationalError\n\u001b[0;32m--> 143\u001b[0m \u001b[38;5;28;01mraise\u001b[39;00m errorclass(errno, errval)\n",
      "\u001b[0;31mOperationalError\u001b[0m: (1072, \"Key column 'business_id' doesn't exist in table\")"
     ]
    }
   ],
   "source": [
    "with conn.cursor() as cursor:\n",
    "    cursor.execute('create index if not exists idx_checkin_on_business_id on checkin (business_id(40));')\n",
    "    cursor.execute('create index if not exists idx_checkin_on_year on checkin (year);')\n",
    "    cursor.execute('create index if not exists idx_checkin_on_month on checkin (month);')\n",
    "    \n",
    "cursor.fetchall()"
   ]
  },
  {
   "cell_type": "code",
   "execution_count": 42,
   "metadata": {
    "slideshow": {
     "slide_type": "skip"
    }
   },
   "outputs": [
    {
     "data": {
      "text/plain": [
       "<AxesSubplot:xlabel='hour', ylabel='checkin'>"
      ]
     },
     "execution_count": 42,
     "metadata": {},
     "output_type": "execute_result"
    },
    {
     "data": {
      "image/png": "[encoded data removed]",
      "text/plain": [
       "<Figure size 1800x500 with 3 Axes>"
      ]
     },
     "metadata": {},
     "output_type": "display_data"
    }
   ],
   "source": [
    "fig, plots = subplots(1, 3, figsize=(18, 5))\n",
    "plots = plots.reshape(-1)\n",
    "\n",
    "year_df = dts_df.groupby('year')['checkin'].count()\n",
    "month_df = dts_df.groupby('month')['checkin'].count()\n",
    "hour_df = dts_df.groupby('hour')['checkin'].count()\n",
    "\n",
    "sns.barplot(x=year_df.index, y=year_df, ax=plots[0])\n",
    "sns.barplot(x=month_df.index, y=month_df, ax=plots[1])\n",
    "sns.barplot(x=hour_df.index, y=hour_df, ax=plots[2])\n"
   ]
  },
  {
   "cell_type": "markdown",
   "metadata": {
    "slideshow": {
     "slide_type": "slide"
    }
   },
   "source": [
    "## Review"
   ]
  },
  {
   "cell_type": "code",
   "execution_count": 44,
   "metadata": {
    "slideshow": {
     "slide_type": "fragment"
    }
   },
   "outputs": [
    {
     "name": "stdout",
     "output_type": "stream",
     "text": [
      "2022-11-11 23:25:44.092 +0900: Embulk v0.9.24\n",
      "in:\n",
      "  type: file\n",
      "  path_prefix: /tmp/yelp-dataset/yelp_academic_dataset_review.json\n",
      "  parser:\n",
      "    type: json\n",
      "    columns:\n",
      "    - {name: review_id, type: string}\n",
      "    - {name: user_id, type: string}\n",
      "    - {name: business_id, type: string}\n",
      "    - {name: stars, type: double}\n",
      "    - {name: useful, type: double}\n",
      "    - {name: funny, type: double}\n",
      "    - {name: cool, type: double}\n",
      "    - {name: text, type: string}\n",
      "    - {name: date, type: timestamp, format: '%Y-%m-%d %H:%M:%S'}\n",
      "    charset: UTF-8\n",
      "    newline: LF\n",
      "out: {type: mysql, host: localhost, user: anderson, password: '1234567890', database: yelp,\n",
      "  table: review, mode: replace}\n",
      "\n",
      "Created 'config_review.yml' file.\n",
      "2022-11-11 23:25:47.272 +0900: Embulk v0.9.24\n"
     ]
    }
   ],
   "source": [
    "!embulk guess seed_review.yml -o config_review.yml -l error\n",
    "!embulk run config_review.yml -l error"
   ]
  },
  {
   "cell_type": "code",
   "execution_count": 16,
   "metadata": {
    "slideshow": {
     "slide_type": "skip"
    }
   },
   "outputs": [
    {
     "data": {
      "text/plain": [
       "()"
      ]
     },
     "execution_count": 16,
     "metadata": {},
     "output_type": "execute_result"
    }
   ],
   "source": [
    "with conn.cursor() as cursor:\n",
    "    cursor.execute('create index if not exists idx_review_on_user_id on review (user_id(40));')\n",
    "    cursor.execute('create index if not exists idx_review_on_business_id on review (business_id(40));')\n",
    "    cursor.execute('create index if not exists idx_review_on_date on review (date);')\n",
    "    \n",
    "cursor.fetchall()"
   ]
  },
  {
   "cell_type": "markdown",
   "metadata": {
    "slideshow": {
     "slide_type": "slide"
    }
   },
   "source": [
    "## Tip Data\n"
   ]
  },
  {
   "cell_type": "code",
   "execution_count": 27,
   "metadata": {
    "slideshow": {
     "slide_type": "fragment"
    }
   },
   "outputs": [
    {
     "name": "stdout",
     "output_type": "stream",
     "text": [
      "2022-11-12 01:29:58.254 +0900: Embulk v0.9.24\n",
      "in:\n",
      "  type: file\n",
      "  path_prefix: /tmp/yelp-dataset/yelp_academic_dataset_tip.json\n",
      "  parser:\n",
      "    type: json\n",
      "    columns:\n",
      "    - {name: user_id, type: string}\n",
      "    - {name: business_id, type: string}\n",
      "    - {name: text, type: string}\n",
      "    - {name: compliment_count, type: double}\n",
      "    - {name: date, type: timestamp, format: '%Y-%m-%d %H:%M:%S'}\n",
      "    charset: UTF-8\n",
      "    newline: LF\n",
      "out: {type: mysql, host: localhost, user: anderson, password: '1234567890', database: yelp,\n",
      "  table: tip, mode: replace}\n",
      "\n",
      "Created 'config_tip.yml' file.\n",
      "2022-11-12 01:30:01.709 +0900: Embulk v0.9.24\n"
     ]
    }
   ],
   "source": [
    "!embulk guess seed_tip.yml -o config_tip.yml -l error\n",
    "!embulk run config_tip.yml -l error"
   ]
  },
  {
   "cell_type": "code",
   "execution_count": 28,
   "metadata": {
    "slideshow": {
     "slide_type": "skip"
    }
   },
   "outputs": [
    {
     "data": {
      "text/plain": [
       "()"
      ]
     },
     "execution_count": 28,
     "metadata": {},
     "output_type": "execute_result"
    }
   ],
   "source": [
    "with conn.cursor() as cursor:\n",
    "    cursor.execute('create index if not exists idx_tip_on_user_id on tip (user_id(40));')\n",
    "    cursor.execute('create index if not exists idx_tip_on_business_id on tip (business_id(40));')\n",
    "    cursor.execute('create index if not exists idx_tip_on_date on tip (date);')\n",
    "    \n",
    "cursor.fetchall()"
   ]
  },
  {
   "cell_type": "markdown",
   "metadata": {
    "slideshow": {
     "slide_type": "slide"
    }
   },
   "source": [
    "## User"
   ]
  },
  {
   "cell_type": "code",
   "execution_count": 29,
   "metadata": {
    "slideshow": {
     "slide_type": "fragment"
    }
   },
   "outputs": [
    {
     "name": "stdout",
     "output_type": "stream",
     "text": [
      "2022-11-12 01:30:26.270 +0900: Embulk v0.9.24\n",
      "in:\n",
      "  type: file\n",
      "  path_prefix: /tmp/yelp-dataset/yelp_academic_dataset_user.json\n",
      "  parser:\n",
      "    type: json\n",
      "    columns:\n",
      "    - {name: user_id, type: string}\n",
      "    - {name: name, type: string}\n",
      "    - {name: review_count, type: double}\n",
      "    - {name: useful, type: double}\n",
      "    - {name: funny, type: double}\n",
      "    - {name: cool, type: double}\n",
      "    - {name: elite, type: string}\n",
      "    - {name: fans, type: double}\n",
      "    - {name: average_stars, type: double}\n",
      "    - {name: compliment_hot, type: double}\n",
      "    - {name: compliment_more, type: double}\n",
      "    - {name: compliment_profile, type: double}\n",
      "    - {name: compliment_cute, type: double}\n",
      "    - {name: compliment_list, type: double}\n",
      "    - {name: compliment_note, type: double}\n",
      "    - {name: compliment_plain, type: double}\n",
      "    - {name: compliment_cool, type: double}\n",
      "    - {name: compliment_funny, type: double}\n",
      "    - {name: compliment_writer, type: double}\n",
      "    - {name: compliment_photos, type: double}\n",
      "    charset: UTF-8\n",
      "    newline: LF\n",
      "out: {type: mysql, host: localhost, user: anderson, password: '1234567890', database: yelp,\n",
      "  table: user, mode: replace}\n",
      "\n",
      "Created 'config_user.yml' file.\n",
      "2022-11-12 01:30:29.608 +0900: Embulk v0.9.24\n"
     ]
    }
   ],
   "source": [
    "!embulk guess seed_user.yml -o config_user.yml -l error\n",
    "!embulk run config_user.yml -l error"
   ]
  },
  {
   "cell_type": "code",
   "execution_count": 30,
   "metadata": {
    "slideshow": {
     "slide_type": "skip"
    }
   },
   "outputs": [
    {
     "data": {
      "text/plain": [
       "()"
      ]
     },
     "execution_count": 30,
     "metadata": {},
     "output_type": "execute_result"
    }
   ],
   "source": [
    "with conn.cursor() as cursor:\n",
    "    cursor.execute('create index idx_user_on_user_id on user (user_id(40));')\n",
    "    \n",
    "cursor.fetchall()"
   ]
  },
  {
   "cell_type": "markdown",
   "metadata": {
    "slideshow": {
     "slide_type": "slide"
    }
   },
   "source": [
    "## Friends"
   ]
  },
  {
   "cell_type": "code",
   "execution_count": 31,
   "metadata": {
    "slideshow": {
     "slide_type": "fragment"
    }
   },
   "outputs": [
    {
     "data": {
      "application/vnd.jupyter.widget-view+json": {
       "model_id": "4cfa1ced4c824fada830c1630a81f047",
       "version_major": 2,
       "version_minor": 0
      },
      "text/plain": [
       "0it [00:00, ?it/s]"
      ]
     },
     "metadata": {},
     "output_type": "display_data"
    }
   ],
   "source": [
    "f = open('/tmp/yelp-dataset/yelp_academic_dataset_user.json', 'rt')\n",
    "with open('/tmp/yelp-dataset/friends.csv', 'wt') as wf:\n",
    "    writer = csv.writer(wf)\n",
    "    \n",
    "    writer.writerow(['user_id', 'friend_id'])\n",
    "    for line in tqdm(f):\n",
    "        line = json.loads(line)\n",
    "        user_id = line['user_id']\n",
    "        friends = line['friends'].split(',')\n",
    "        friends = [(user_id, f) for f in friends]\n",
    "        writer.writerows(friends)\n",
    "f.flush()\n",
    "f.close()"
   ]
  },
  {
   "cell_type": "code",
   "execution_count": 37,
   "metadata": {
    "slideshow": {
     "slide_type": "slide"
    }
   },
   "outputs": [
    {
     "name": "stdout",
     "output_type": "stream",
     "text": [
      "2022-11-12 02:09:22.092 +0900: Embulk v0.9.24\n",
      "in:\n",
      "  type: file\n",
      "  path_prefix: /tmp/yelp-dataset/friends.csv\n",
      "  parser:\n",
      "    type: csv\n",
      "    charset: UTF-8\n",
      "    newline: CRLF\n",
      "    delimiter: ','\n",
      "    quote: '\"'\n",
      "    escape: '\"'\n",
      "    trim_if_not_quoted: false\n",
      "    skip_header_lines: 0\n",
      "    allow_extra_columns: false\n",
      "    allow_optional_columns: false\n",
      "    columns:\n",
      "    - {name: c0, type: string}\n",
      "    - {name: c1, type: string}\n",
      "out: {type: mysql, host: localhost, user: anderson, password: '1234567890', database: yelp,\n",
      "  table: friends, mode: replace}\n",
      "\n",
      "Created 'config_friends.yml' file.\n",
      "2022-11-12 02:09:26.215 +0900: Embulk v0.9.24\n"
     ]
    }
   ],
   "source": [
    "!embulk guess seed_friends.yml -o config_friends.yml -l error\n",
    "!embulk run config_friends.yml -l error"
   ]
  },
  {
   "cell_type": "code",
   "execution_count": 38,
   "metadata": {
    "slideshow": {
     "slide_type": "skip"
    }
   },
   "outputs": [
    {
     "ename": "OperationalError",
     "evalue": "(1072, \"Key column 'user_id' doesn't exist in table\")",
     "output_type": "error",
     "traceback": [
      "\u001b[0;31m---------------------------------------------------------------------------\u001b[0m",
      "\u001b[0;31mOperationalError\u001b[0m                          Traceback (most recent call last)",
      "Cell \u001b[0;32mIn [38], line 2\u001b[0m\n\u001b[1;32m      1\u001b[0m \u001b[38;5;28;01mwith\u001b[39;00m conn\u001b[38;5;241m.\u001b[39mcursor() \u001b[38;5;28;01mas\u001b[39;00m cursor:\n\u001b[0;32m----> 2\u001b[0m     \u001b[43mcursor\u001b[49m\u001b[38;5;241;43m.\u001b[39;49m\u001b[43mexecute\u001b[49m\u001b[43m(\u001b[49m\u001b[38;5;124;43m'\u001b[39;49m\u001b[38;5;124;43mcreate index idx_user_id_on_friends on friends (user_id(40));\u001b[39;49m\u001b[38;5;124;43m'\u001b[39;49m\u001b[43m)\u001b[49m\n\u001b[1;32m      3\u001b[0m     cursor\u001b[38;5;241m.\u001b[39mexecute(\u001b[38;5;124m'\u001b[39m\u001b[38;5;124mcreate index idx_friend_id_on_friends on friends (friend_id(40));\u001b[39m\u001b[38;5;124m'\u001b[39m)\n\u001b[1;32m      5\u001b[0m cursor\u001b[38;5;241m.\u001b[39mfetchall()\n",
      "File \u001b[0;32m~/.pyenv/versions/3.10.8/lib/python3.10/site-packages/pymysql/cursors.py:148\u001b[0m, in \u001b[0;36mCursor.execute\u001b[0;34m(self, query, args)\u001b[0m\n\u001b[1;32m    144\u001b[0m     \u001b[38;5;28;01mpass\u001b[39;00m\n\u001b[1;32m    146\u001b[0m query \u001b[38;5;241m=\u001b[39m \u001b[38;5;28mself\u001b[39m\u001b[38;5;241m.\u001b[39mmogrify(query, args)\n\u001b[0;32m--> 148\u001b[0m result \u001b[38;5;241m=\u001b[39m \u001b[38;5;28;43mself\u001b[39;49m\u001b[38;5;241;43m.\u001b[39;49m\u001b[43m_query\u001b[49m\u001b[43m(\u001b[49m\u001b[43mquery\u001b[49m\u001b[43m)\u001b[49m\n\u001b[1;32m    149\u001b[0m \u001b[38;5;28mself\u001b[39m\u001b[38;5;241m.\u001b[39m_executed \u001b[38;5;241m=\u001b[39m query\n\u001b[1;32m    150\u001b[0m \u001b[38;5;28;01mreturn\u001b[39;00m result\n",
      "File \u001b[0;32m~/.pyenv/versions/3.10.8/lib/python3.10/site-packages/pymysql/cursors.py:310\u001b[0m, in \u001b[0;36mCursor._query\u001b[0;34m(self, q)\u001b[0m\n\u001b[1;32m    308\u001b[0m \u001b[38;5;28mself\u001b[39m\u001b[38;5;241m.\u001b[39m_last_executed \u001b[38;5;241m=\u001b[39m q\n\u001b[1;32m    309\u001b[0m \u001b[38;5;28mself\u001b[39m\u001b[38;5;241m.\u001b[39m_clear_result()\n\u001b[0;32m--> 310\u001b[0m \u001b[43mconn\u001b[49m\u001b[38;5;241;43m.\u001b[39;49m\u001b[43mquery\u001b[49m\u001b[43m(\u001b[49m\u001b[43mq\u001b[49m\u001b[43m)\u001b[49m\n\u001b[1;32m    311\u001b[0m \u001b[38;5;28mself\u001b[39m\u001b[38;5;241m.\u001b[39m_do_get_result()\n\u001b[1;32m    312\u001b[0m \u001b[38;5;28;01mreturn\u001b[39;00m \u001b[38;5;28mself\u001b[39m\u001b[38;5;241m.\u001b[39mrowcount\n",
      "File \u001b[0;32m~/.pyenv/versions/3.10.8/lib/python3.10/site-packages/pymysql/connections.py:548\u001b[0m, in \u001b[0;36mConnection.query\u001b[0;34m(self, sql, unbuffered)\u001b[0m\n\u001b[1;32m    546\u001b[0m     sql \u001b[38;5;241m=\u001b[39m sql\u001b[38;5;241m.\u001b[39mencode(\u001b[38;5;28mself\u001b[39m\u001b[38;5;241m.\u001b[39mencoding, \u001b[38;5;124m\"\u001b[39m\u001b[38;5;124msurrogateescape\u001b[39m\u001b[38;5;124m\"\u001b[39m)\n\u001b[1;32m    547\u001b[0m \u001b[38;5;28mself\u001b[39m\u001b[38;5;241m.\u001b[39m_execute_command(COMMAND\u001b[38;5;241m.\u001b[39mCOM_QUERY, sql)\n\u001b[0;32m--> 548\u001b[0m \u001b[38;5;28mself\u001b[39m\u001b[38;5;241m.\u001b[39m_affected_rows \u001b[38;5;241m=\u001b[39m \u001b[38;5;28;43mself\u001b[39;49m\u001b[38;5;241;43m.\u001b[39;49m\u001b[43m_read_query_result\u001b[49m\u001b[43m(\u001b[49m\u001b[43munbuffered\u001b[49m\u001b[38;5;241;43m=\u001b[39;49m\u001b[43munbuffered\u001b[49m\u001b[43m)\u001b[49m\n\u001b[1;32m    549\u001b[0m \u001b[38;5;28;01mreturn\u001b[39;00m \u001b[38;5;28mself\u001b[39m\u001b[38;5;241m.\u001b[39m_affected_rows\n",
      "File \u001b[0;32m~/.pyenv/versions/3.10.8/lib/python3.10/site-packages/pymysql/connections.py:775\u001b[0m, in \u001b[0;36mConnection._read_query_result\u001b[0;34m(self, unbuffered)\u001b[0m\n\u001b[1;32m    773\u001b[0m \u001b[38;5;28;01melse\u001b[39;00m:\n\u001b[1;32m    774\u001b[0m     result \u001b[38;5;241m=\u001b[39m MySQLResult(\u001b[38;5;28mself\u001b[39m)\n\u001b[0;32m--> 775\u001b[0m     \u001b[43mresult\u001b[49m\u001b[38;5;241;43m.\u001b[39;49m\u001b[43mread\u001b[49m\u001b[43m(\u001b[49m\u001b[43m)\u001b[49m\n\u001b[1;32m    776\u001b[0m \u001b[38;5;28mself\u001b[39m\u001b[38;5;241m.\u001b[39m_result \u001b[38;5;241m=\u001b[39m result\n\u001b[1;32m    777\u001b[0m \u001b[38;5;28;01mif\u001b[39;00m result\u001b[38;5;241m.\u001b[39mserver_status \u001b[38;5;129;01mis\u001b[39;00m \u001b[38;5;129;01mnot\u001b[39;00m \u001b[38;5;28;01mNone\u001b[39;00m:\n",
      "File \u001b[0;32m~/.pyenv/versions/3.10.8/lib/python3.10/site-packages/pymysql/connections.py:1156\u001b[0m, in \u001b[0;36mMySQLResult.read\u001b[0;34m(self)\u001b[0m\n\u001b[1;32m   1154\u001b[0m \u001b[38;5;28;01mdef\u001b[39;00m \u001b[38;5;21mread\u001b[39m(\u001b[38;5;28mself\u001b[39m):\n\u001b[1;32m   1155\u001b[0m     \u001b[38;5;28;01mtry\u001b[39;00m:\n\u001b[0;32m-> 1156\u001b[0m         first_packet \u001b[38;5;241m=\u001b[39m \u001b[38;5;28;43mself\u001b[39;49m\u001b[38;5;241;43m.\u001b[39;49m\u001b[43mconnection\u001b[49m\u001b[38;5;241;43m.\u001b[39;49m\u001b[43m_read_packet\u001b[49m\u001b[43m(\u001b[49m\u001b[43m)\u001b[49m\n\u001b[1;32m   1158\u001b[0m         \u001b[38;5;28;01mif\u001b[39;00m first_packet\u001b[38;5;241m.\u001b[39mis_ok_packet():\n\u001b[1;32m   1159\u001b[0m             \u001b[38;5;28mself\u001b[39m\u001b[38;5;241m.\u001b[39m_read_ok_packet(first_packet)\n",
      "File \u001b[0;32m~/.pyenv/versions/3.10.8/lib/python3.10/site-packages/pymysql/connections.py:725\u001b[0m, in \u001b[0;36mConnection._read_packet\u001b[0;34m(self, packet_type)\u001b[0m\n\u001b[1;32m    723\u001b[0m     \u001b[38;5;28;01mif\u001b[39;00m \u001b[38;5;28mself\u001b[39m\u001b[38;5;241m.\u001b[39m_result \u001b[38;5;129;01mis\u001b[39;00m \u001b[38;5;129;01mnot\u001b[39;00m \u001b[38;5;28;01mNone\u001b[39;00m \u001b[38;5;129;01mand\u001b[39;00m \u001b[38;5;28mself\u001b[39m\u001b[38;5;241m.\u001b[39m_result\u001b[38;5;241m.\u001b[39munbuffered_active \u001b[38;5;129;01mis\u001b[39;00m \u001b[38;5;28;01mTrue\u001b[39;00m:\n\u001b[1;32m    724\u001b[0m         \u001b[38;5;28mself\u001b[39m\u001b[38;5;241m.\u001b[39m_result\u001b[38;5;241m.\u001b[39munbuffered_active \u001b[38;5;241m=\u001b[39m \u001b[38;5;28;01mFalse\u001b[39;00m\n\u001b[0;32m--> 725\u001b[0m     \u001b[43mpacket\u001b[49m\u001b[38;5;241;43m.\u001b[39;49m\u001b[43mraise_for_error\u001b[49m\u001b[43m(\u001b[49m\u001b[43m)\u001b[49m\n\u001b[1;32m    726\u001b[0m \u001b[38;5;28;01mreturn\u001b[39;00m packet\n",
      "File \u001b[0;32m~/.pyenv/versions/3.10.8/lib/python3.10/site-packages/pymysql/protocol.py:221\u001b[0m, in \u001b[0;36mMysqlPacket.raise_for_error\u001b[0;34m(self)\u001b[0m\n\u001b[1;32m    219\u001b[0m \u001b[38;5;28;01mif\u001b[39;00m DEBUG:\n\u001b[1;32m    220\u001b[0m     \u001b[38;5;28mprint\u001b[39m(\u001b[38;5;124m\"\u001b[39m\u001b[38;5;124merrno =\u001b[39m\u001b[38;5;124m\"\u001b[39m, errno)\n\u001b[0;32m--> 221\u001b[0m \u001b[43merr\u001b[49m\u001b[38;5;241;43m.\u001b[39;49m\u001b[43mraise_mysql_exception\u001b[49m\u001b[43m(\u001b[49m\u001b[38;5;28;43mself\u001b[39;49m\u001b[38;5;241;43m.\u001b[39;49m\u001b[43m_data\u001b[49m\u001b[43m)\u001b[49m\n",
      "File \u001b[0;32m~/.pyenv/versions/3.10.8/lib/python3.10/site-packages/pymysql/err.py:143\u001b[0m, in \u001b[0;36mraise_mysql_exception\u001b[0;34m(data)\u001b[0m\n\u001b[1;32m    141\u001b[0m \u001b[38;5;28;01mif\u001b[39;00m errorclass \u001b[38;5;129;01mis\u001b[39;00m \u001b[38;5;28;01mNone\u001b[39;00m:\n\u001b[1;32m    142\u001b[0m     errorclass \u001b[38;5;241m=\u001b[39m InternalError \u001b[38;5;28;01mif\u001b[39;00m errno \u001b[38;5;241m<\u001b[39m \u001b[38;5;241m1000\u001b[39m \u001b[38;5;28;01melse\u001b[39;00m OperationalError\n\u001b[0;32m--> 143\u001b[0m \u001b[38;5;28;01mraise\u001b[39;00m errorclass(errno, errval)\n",
      "\u001b[0;31mOperationalError\u001b[0m: (1072, \"Key column 'user_id' doesn't exist in table\")"
     ]
    }
   ],
   "source": [
    "with conn.cursor() as cursor:\n",
    "    cursor.execute('create index idx_user_id_on_friends on friends (user_id(40));')\n",
    "    cursor.execute('create index idx_friend_id_on_friends on friends (friend_id(40));')\n",
    "    \n",
    "cursor.fetchall()"
   ]
  },
  {
   "cell_type": "code",
   "execution_count": null,
   "metadata": {},
   "outputs": [],
   "source": []
  }
 ],
 "metadata": {
  "celltoolbar": "Slideshow",
  "kernelspec": {
   "display_name": "PyEnv 3.10.8",
   "language": "python",
   "name": "3.10.8"
  },
  "language_info": {
   "codemirror_mode": {
    "name": "ipython",
    "version": 3
   },
   "file_extension": ".py",
   "mimetype": "text/x-python",
   "name": "python",
   "nbconvert_exporter": "python",
   "pygments_lexer": "ipython3",
   "version": "3.10.8"
  },
  "toc": {
   "base_numbering": 1,
   "nav_menu": {},
   "number_sections": true,
   "sideBar": true,
   "skip_h1_title": false,
   "title_cell": "Table of Contents",
   "title_sidebar": "Contents",
   "toc_cell": false,
   "toc_position": {},
   "toc_section_display": true,
   "toc_window_display": false
  }
 },
 "nbformat": 4,
 "nbformat_minor": 4
}
