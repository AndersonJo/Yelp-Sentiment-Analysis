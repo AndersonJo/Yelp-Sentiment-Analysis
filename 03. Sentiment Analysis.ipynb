{
 "cells": [
  {
   "cell_type": "code",
   "execution_count": 1,
   "metadata": {},
   "outputs": [
    {
     "name": "stdout",
     "output_type": "stream",
     "text": [
      "Populating the interactive namespace from numpy and matplotlib\n"
     ]
    },
    {
     "name": "stderr",
     "output_type": "stream",
     "text": [
      "Using TensorFlow backend.\n",
      "/usr/local/lib/python3.6/site-packages/tensorflow/python/framework/dtypes.py:516: FutureWarning: Passing (type, 1) or '1type' as a synonym of type is deprecated; in a future version of numpy, it will be understood as (type, (1,)) / '(1,)type'.\n",
      "  _np_qint8 = np.dtype([(\"qint8\", np.int8, 1)])\n",
      "/usr/local/lib/python3.6/site-packages/tensorflow/python/framework/dtypes.py:517: FutureWarning: Passing (type, 1) or '1type' as a synonym of type is deprecated; in a future version of numpy, it will be understood as (type, (1,)) / '(1,)type'.\n",
      "  _np_quint8 = np.dtype([(\"quint8\", np.uint8, 1)])\n",
      "/usr/local/lib/python3.6/site-packages/tensorflow/python/framework/dtypes.py:518: FutureWarning: Passing (type, 1) or '1type' as a synonym of type is deprecated; in a future version of numpy, it will be understood as (type, (1,)) / '(1,)type'.\n",
      "  _np_qint16 = np.dtype([(\"qint16\", np.int16, 1)])\n",
      "/usr/local/lib/python3.6/site-packages/tensorflow/python/framework/dtypes.py:519: FutureWarning: Passing (type, 1) or '1type' as a synonym of type is deprecated; in a future version of numpy, it will be understood as (type, (1,)) / '(1,)type'.\n",
      "  _np_quint16 = np.dtype([(\"quint16\", np.uint16, 1)])\n",
      "/usr/local/lib/python3.6/site-packages/tensorflow/python/framework/dtypes.py:520: FutureWarning: Passing (type, 1) or '1type' as a synonym of type is deprecated; in a future version of numpy, it will be understood as (type, (1,)) / '(1,)type'.\n",
      "  _np_qint32 = np.dtype([(\"qint32\", np.int32, 1)])\n",
      "/usr/local/lib/python3.6/site-packages/tensorflow/python/framework/dtypes.py:525: FutureWarning: Passing (type, 1) or '1type' as a synonym of type is deprecated; in a future version of numpy, it will be understood as (type, (1,)) / '(1,)type'.\n",
      "  np_resource = np.dtype([(\"resource\", np.ubyte, 1)])\n"
     ]
    }
   ],
   "source": [
    "%pylab inline\n",
    "\n",
    "import pandas as pd\n",
    "import numpy as np\n",
    "import os\n",
    "import pymysql\n",
    "import seaborn as sns\n",
    "import nltk\n",
    "\n",
    "import sqlalchemy\n",
    "import tempfile\n",
    "import hashlib\n",
    "\n",
    "from nltk import corpus\n",
    "from nltk.tokenize import RegexpTokenizer\n",
    "from imblearn.over_sampling import SMOTE\n",
    "from langdetect import detect as langdetect"
   ]
  },
  {
   "cell_type": "code",
   "execution_count": 2,
   "metadata": {},
   "outputs": [
    {
     "name": "stderr",
     "output_type": "stream",
     "text": [
      "[nltk_data] Downloading package stopwords to\n",
      "[nltk_data]     /home/anderson/nltk_data...\n",
      "[nltk_data]   Package stopwords is already up-to-date!\n"
     ]
    }
   ],
   "source": [
    "def query(sql):\n",
    "    base_dir = os.path.join(tempfile.gettempdir(), 'yelp')\n",
    "    hash_key = hashlib.sha1(sql.encode('utf-8')).hexdigest()\n",
    "    file_path = os.path.join(base_dir, hash_key + '.csv')\n",
    "    if not os.path.exists(base_dir):\n",
    "        os.mkdir(base_dir)\n",
    "        \n",
    "    if os.path.exists(file_path):\n",
    "        data = pd.read_csv(file_path, index_col=0)\n",
    "    else:\n",
    "        engine = sqlalchemy.create_engine('mysql+pymysql://anderson@localhost:3306/yelp')\n",
    "        data = pd.read_sql(sql, con=engine)\n",
    "        data.to_csv(file_path)\n",
    "    return data\n",
    "\n",
    "# Initialize Stopwords\n",
    "nltk.download('stopwords')\n",
    "stopwords = set(corpus.stopwords.words('english'))"
   ]
  },
  {
   "cell_type": "markdown",
   "metadata": {},
   "source": [
    "# Sentiment Analysis Model\n",
    " - Ranking에서 가장 영향력 있었던 businiess_id = WYw3Uf56DT5IwpaLNnCH5Q 를 사용한다"
   ]
  },
  {
   "cell_type": "markdown",
   "metadata": {},
   "source": [
    "## Load Review Data"
   ]
  },
  {
   "cell_type": "code",
   "execution_count": 31,
   "metadata": {},
   "outputs": [
    {
     "name": "stdout",
     "output_type": "stream",
     "text": [
      "(2883, 5)\n"
     ]
    },
    {
     "data": {
      "text/html": [
       "<div>\n",
       "<style scoped>\n",
       "    .dataframe tbody tr th:only-of-type {\n",
       "        vertical-align: middle;\n",
       "    }\n",
       "\n",
       "    .dataframe tbody tr th {\n",
       "        vertical-align: top;\n",
       "    }\n",
       "\n",
       "    .dataframe thead th {\n",
       "        text-align: right;\n",
       "    }\n",
       "</style>\n",
       "<table border=\"1\" class=\"dataframe\">\n",
       "  <thead>\n",
       "    <tr style=\"text-align: right;\">\n",
       "      <th></th>\n",
       "      <th>useful</th>\n",
       "      <th>funny</th>\n",
       "      <th>cool</th>\n",
       "      <th>text</th>\n",
       "    </tr>\n",
       "    <tr>\n",
       "      <th>star</th>\n",
       "      <th></th>\n",
       "      <th></th>\n",
       "      <th></th>\n",
       "      <th></th>\n",
       "    </tr>\n",
       "  </thead>\n",
       "  <tbody>\n",
       "    <tr>\n",
       "      <td>0</td>\n",
       "      <td>751</td>\n",
       "      <td>751</td>\n",
       "      <td>751</td>\n",
       "      <td>751</td>\n",
       "    </tr>\n",
       "    <tr>\n",
       "      <td>1</td>\n",
       "      <td>2132</td>\n",
       "      <td>2132</td>\n",
       "      <td>2132</td>\n",
       "      <td>2132</td>\n",
       "    </tr>\n",
       "  </tbody>\n",
       "</table>\n",
       "</div>"
      ],
      "text/plain": [
       "      useful  funny  cool  text\n",
       "star                           \n",
       "0        751    751   751   751\n",
       "1       2132   2132  2132  2132"
      ]
     },
     "metadata": {},
     "output_type": "display_data"
    },
    {
     "data": {
      "text/html": [
       "<div>\n",
       "<style scoped>\n",
       "    .dataframe tbody tr th:only-of-type {\n",
       "        vertical-align: middle;\n",
       "    }\n",
       "\n",
       "    .dataframe tbody tr th {\n",
       "        vertical-align: top;\n",
       "    }\n",
       "\n",
       "    .dataframe thead th {\n",
       "        text-align: right;\n",
       "    }\n",
       "</style>\n",
       "<table border=\"1\" class=\"dataframe\">\n",
       "  <thead>\n",
       "    <tr style=\"text-align: right;\">\n",
       "      <th></th>\n",
       "      <th>star</th>\n",
       "      <th>useful</th>\n",
       "      <th>funny</th>\n",
       "      <th>cool</th>\n",
       "      <th>text</th>\n",
       "    </tr>\n",
       "  </thead>\n",
       "  <tbody>\n",
       "    <tr>\n",
       "      <td>0</td>\n",
       "      <td>1</td>\n",
       "      <td>1.0</td>\n",
       "      <td>0.0</td>\n",
       "      <td>1.0</td>\n",
       "      <td>the bellagio is one of the older hotels on the...</td>\n",
       "    </tr>\n",
       "    <tr>\n",
       "      <td>1</td>\n",
       "      <td>1</td>\n",
       "      <td>7.0</td>\n",
       "      <td>0.0</td>\n",
       "      <td>0.0</td>\n",
       "      <td>bellagio is the epitome of luxury in vegas, bu...</td>\n",
       "    </tr>\n",
       "    <tr>\n",
       "      <td>2</td>\n",
       "      <td>1</td>\n",
       "      <td>0.0</td>\n",
       "      <td>0.0</td>\n",
       "      <td>0.0</td>\n",
       "      <td>our stay at the bellagio has been nothing shor...</td>\n",
       "    </tr>\n",
       "    <tr>\n",
       "      <td>4</td>\n",
       "      <td>0</td>\n",
       "      <td>1.0</td>\n",
       "      <td>0.0</td>\n",
       "      <td>0.0</td>\n",
       "      <td>the lady (lexi) who checked us in was extremel...</td>\n",
       "    </tr>\n",
       "    <tr>\n",
       "      <td>5</td>\n",
       "      <td>1</td>\n",
       "      <td>0.0</td>\n",
       "      <td>0.0</td>\n",
       "      <td>0.0</td>\n",
       "      <td>the bellagio is by far my favorite choice of h...</td>\n",
       "    </tr>\n",
       "  </tbody>\n",
       "</table>\n",
       "</div>"
      ],
      "text/plain": [
       "   star  useful  funny  cool  \\\n",
       "0     1     1.0    0.0   1.0   \n",
       "1     1     7.0    0.0   0.0   \n",
       "2     1     0.0    0.0   0.0   \n",
       "4     0     1.0    0.0   0.0   \n",
       "5     1     0.0    0.0   0.0   \n",
       "\n",
       "                                                text  \n",
       "0  the bellagio is one of the older hotels on the...  \n",
       "1  bellagio is the epitome of luxury in vegas, bu...  \n",
       "2  our stay at the bellagio has been nothing shor...  \n",
       "4  the lady (lexi) who checked us in was extremel...  \n",
       "5  the bellagio is by far my favorite choice of h...  "
      ]
     },
     "execution_count": 31,
     "metadata": {},
     "output_type": "execute_result"
    }
   ],
   "source": [
    "sql = '''\n",
    "select cast(stars as int) as star, useful, funny, cool, lower(text) as text\n",
    "from review r\n",
    "where business_id = 'na4Th5DrNauOv-c43QQFvA';\n",
    "'''\n",
    "data = query(sql)\n",
    "data.loc[(data['star'] < 3), 'star'] = 0\n",
    "data.loc[(data['star'] > 3), 'star'] = 1\n",
    "data = data[data['star'] != 3]\n",
    "print(data.shape)\n",
    "display(data.groupby('star').count())\n",
    "data.head()"
   ]
  },
  {
   "cell_type": "markdown",
   "metadata": {},
   "source": [
    "## Determine Country by Text"
   ]
  },
  {
   "cell_type": "code",
   "execution_count": 32,
   "metadata": {},
   "outputs": [
    {
     "data": {
      "text/html": [
       "<div>\n",
       "<style scoped>\n",
       "    .dataframe tbody tr th:only-of-type {\n",
       "        vertical-align: middle;\n",
       "    }\n",
       "\n",
       "    .dataframe tbody tr th {\n",
       "        vertical-align: top;\n",
       "    }\n",
       "\n",
       "    .dataframe thead th {\n",
       "        text-align: right;\n",
       "    }\n",
       "</style>\n",
       "<table border=\"1\" class=\"dataframe\">\n",
       "  <thead>\n",
       "    <tr style=\"text-align: right;\">\n",
       "      <th></th>\n",
       "      <th>star</th>\n",
       "      <th>useful</th>\n",
       "      <th>funny</th>\n",
       "      <th>cool</th>\n",
       "      <th>text</th>\n",
       "      <th>country</th>\n",
       "    </tr>\n",
       "  </thead>\n",
       "  <tbody>\n",
       "    <tr>\n",
       "      <td>0</td>\n",
       "      <td>1</td>\n",
       "      <td>1.0</td>\n",
       "      <td>0.0</td>\n",
       "      <td>1.0</td>\n",
       "      <td>the bellagio is one of the older hotels on the...</td>\n",
       "      <td>en</td>\n",
       "    </tr>\n",
       "    <tr>\n",
       "      <td>1</td>\n",
       "      <td>1</td>\n",
       "      <td>7.0</td>\n",
       "      <td>0.0</td>\n",
       "      <td>0.0</td>\n",
       "      <td>bellagio is the epitome of luxury in vegas, bu...</td>\n",
       "      <td>en</td>\n",
       "    </tr>\n",
       "    <tr>\n",
       "      <td>2</td>\n",
       "      <td>1</td>\n",
       "      <td>0.0</td>\n",
       "      <td>0.0</td>\n",
       "      <td>0.0</td>\n",
       "      <td>our stay at the bellagio has been nothing shor...</td>\n",
       "      <td>en</td>\n",
       "    </tr>\n",
       "    <tr>\n",
       "      <td>4</td>\n",
       "      <td>0</td>\n",
       "      <td>1.0</td>\n",
       "      <td>0.0</td>\n",
       "      <td>0.0</td>\n",
       "      <td>the lady (lexi) who checked us in was extremel...</td>\n",
       "      <td>en</td>\n",
       "    </tr>\n",
       "    <tr>\n",
       "      <td>5</td>\n",
       "      <td>1</td>\n",
       "      <td>0.0</td>\n",
       "      <td>0.0</td>\n",
       "      <td>0.0</td>\n",
       "      <td>the bellagio is by far my favorite choice of h...</td>\n",
       "      <td>en</td>\n",
       "    </tr>\n",
       "  </tbody>\n",
       "</table>\n",
       "</div>"
      ],
      "text/plain": [
       "   star  useful  funny  cool  \\\n",
       "0     1     1.0    0.0   1.0   \n",
       "1     1     7.0    0.0   0.0   \n",
       "2     1     0.0    0.0   0.0   \n",
       "4     0     1.0    0.0   0.0   \n",
       "5     1     0.0    0.0   0.0   \n",
       "\n",
       "                                                text country  \n",
       "0  the bellagio is one of the older hotels on the...      en  \n",
       "1  bellagio is the epitome of luxury in vegas, bu...      en  \n",
       "2  our stay at the bellagio has been nothing shor...      en  \n",
       "4  the lady (lexi) who checked us in was extremel...      en  \n",
       "5  the bellagio is by far my favorite choice of h...      en  "
      ]
     },
     "execution_count": 32,
     "metadata": {},
     "output_type": "execute_result"
    }
   ],
   "source": [
    "def determine_country(x):\n",
    "    try:\n",
    "        r = langdetect(x)\n",
    "    except:\n",
    "        r = None\n",
    "    return r\n",
    "\n",
    "data['country'] = data['text'].apply(determine_country)\n",
    "data = data[data['country'] == 'en']\n",
    "data.head()"
   ]
  },
  {
   "cell_type": "markdown",
   "metadata": {},
   "source": [
    "## Tokenizing"
   ]
  },
  {
   "cell_type": "code",
   "execution_count": 33,
   "metadata": {},
   "outputs": [
    {
     "data": {
      "text/html": [
       "<div>\n",
       "<style scoped>\n",
       "    .dataframe tbody tr th:only-of-type {\n",
       "        vertical-align: middle;\n",
       "    }\n",
       "\n",
       "    .dataframe tbody tr th {\n",
       "        vertical-align: top;\n",
       "    }\n",
       "\n",
       "    .dataframe thead th {\n",
       "        text-align: right;\n",
       "    }\n",
       "</style>\n",
       "<table border=\"1\" class=\"dataframe\">\n",
       "  <thead>\n",
       "    <tr style=\"text-align: right;\">\n",
       "      <th></th>\n",
       "      <th>star</th>\n",
       "      <th>useful</th>\n",
       "      <th>funny</th>\n",
       "      <th>cool</th>\n",
       "      <th>country</th>\n",
       "      <th>text2</th>\n",
       "    </tr>\n",
       "  </thead>\n",
       "  <tbody>\n",
       "    <tr>\n",
       "      <td>0</td>\n",
       "      <td>1</td>\n",
       "      <td>1.0</td>\n",
       "      <td>0.0</td>\n",
       "      <td>1.0</td>\n",
       "      <td>en</td>\n",
       "      <td>bellagio one older hotels strip relatively spe...</td>\n",
       "    </tr>\n",
       "    <tr>\n",
       "      <td>1</td>\n",
       "      <td>1</td>\n",
       "      <td>7.0</td>\n",
       "      <td>0.0</td>\n",
       "      <td>0.0</td>\n",
       "      <td>en</td>\n",
       "      <td>bellagio epitome luxury vegas they've around s...</td>\n",
       "    </tr>\n",
       "    <tr>\n",
       "      <td>2</td>\n",
       "      <td>1</td>\n",
       "      <td>0.0</td>\n",
       "      <td>0.0</td>\n",
       "      <td>0.0</td>\n",
       "      <td>en</td>\n",
       "      <td>stay bellagio nothing short wonderful employee...</td>\n",
       "    </tr>\n",
       "    <tr>\n",
       "      <td>4</td>\n",
       "      <td>0</td>\n",
       "      <td>1.0</td>\n",
       "      <td>0.0</td>\n",
       "      <td>0.0</td>\n",
       "      <td>en</td>\n",
       "      <td>lady lexi checked us extremely rude find reser...</td>\n",
       "    </tr>\n",
       "    <tr>\n",
       "      <td>5</td>\n",
       "      <td>1</td>\n",
       "      <td>0.0</td>\n",
       "      <td>0.0</td>\n",
       "      <td>0.0</td>\n",
       "      <td>en</td>\n",
       "      <td>bellagio far favorite choice hotels vegas room...</td>\n",
       "    </tr>\n",
       "    <tr>\n",
       "      <td>...</td>\n",
       "      <td>...</td>\n",
       "      <td>...</td>\n",
       "      <td>...</td>\n",
       "      <td>...</td>\n",
       "      <td>...</td>\n",
       "      <td>...</td>\n",
       "    </tr>\n",
       "    <tr>\n",
       "      <td>3293</td>\n",
       "      <td>0</td>\n",
       "      <td>0.0</td>\n",
       "      <td>0.0</td>\n",
       "      <td>0.0</td>\n",
       "      <td>en</td>\n",
       "      <td>woken morning loud party going room next door ...</td>\n",
       "    </tr>\n",
       "    <tr>\n",
       "      <td>3294</td>\n",
       "      <td>1</td>\n",
       "      <td>0.0</td>\n",
       "      <td>0.0</td>\n",
       "      <td>0.0</td>\n",
       "      <td>en</td>\n",
       "      <td>what's love bellagio moment valet vehicle chec...</td>\n",
       "    </tr>\n",
       "    <tr>\n",
       "      <td>3297</td>\n",
       "      <td>0</td>\n",
       "      <td>0.0</td>\n",
       "      <td>0.0</td>\n",
       "      <td>0.0</td>\n",
       "      <td>en</td>\n",
       "      <td>spent nights bellagio march colleague watch fo...</td>\n",
       "    </tr>\n",
       "    <tr>\n",
       "      <td>3298</td>\n",
       "      <td>1</td>\n",
       "      <td>0.0</td>\n",
       "      <td>0.0</td>\n",
       "      <td>0.0</td>\n",
       "      <td>en</td>\n",
       "      <td>partner stayed first time recently three night...</td>\n",
       "    </tr>\n",
       "    <tr>\n",
       "      <td>3299</td>\n",
       "      <td>1</td>\n",
       "      <td>0.0</td>\n",
       "      <td>0.0</td>\n",
       "      <td>2.0</td>\n",
       "      <td>en</td>\n",
       "      <td>what's love bellagio moment valet vehicle chec...</td>\n",
       "    </tr>\n",
       "  </tbody>\n",
       "</table>\n",
       "<p>2866 rows × 6 columns</p>\n",
       "</div>"
      ],
      "text/plain": [
       "      star  useful  funny  cool country  \\\n",
       "0        1     1.0    0.0   1.0      en   \n",
       "1        1     7.0    0.0   0.0      en   \n",
       "2        1     0.0    0.0   0.0      en   \n",
       "4        0     1.0    0.0   0.0      en   \n",
       "5        1     0.0    0.0   0.0      en   \n",
       "...    ...     ...    ...   ...     ...   \n",
       "3293     0     0.0    0.0   0.0      en   \n",
       "3294     1     0.0    0.0   0.0      en   \n",
       "3297     0     0.0    0.0   0.0      en   \n",
       "3298     1     0.0    0.0   0.0      en   \n",
       "3299     1     0.0    0.0   2.0      en   \n",
       "\n",
       "                                                  text2  \n",
       "0     bellagio one older hotels strip relatively spe...  \n",
       "1     bellagio epitome luxury vegas they've around s...  \n",
       "2     stay bellagio nothing short wonderful employee...  \n",
       "4     lady lexi checked us extremely rude find reser...  \n",
       "5     bellagio far favorite choice hotels vegas room...  \n",
       "...                                                 ...  \n",
       "3293  woken morning loud party going room next door ...  \n",
       "3294  what's love bellagio moment valet vehicle chec...  \n",
       "3297  spent nights bellagio march colleague watch fo...  \n",
       "3298  partner stayed first time recently three night...  \n",
       "3299  what's love bellagio moment valet vehicle chec...  \n",
       "\n",
       "[2866 rows x 6 columns]"
      ]
     },
     "execution_count": 33,
     "metadata": {},
     "output_type": "execute_result"
    }
   ],
   "source": [
    "# Regex Tokenizer\n",
    "tokenizer = RegexpTokenizer('\\w+')\n",
    "no_space_regex = re.compile(\"[.;:!?,\\\"()\\[\\]\\n\\-\\/\\d_]\")\n",
    "space_regex = re.compile('\\s+')\n",
    "def preprocess_text(t):\n",
    "    t = no_space_regex.sub(' ', t)\n",
    "    t = space_regex.sub(' ', t)\n",
    "    t = t.strip()\n",
    "    # t = tokenizer.tokenize(t)\n",
    "    t = t.split(' ')\n",
    "    t = ' '.join(filter(lambda w: w not in stopwords, t))\n",
    "    return t\n",
    "\n",
    "data['text2'] = data['text'].apply(preprocess_text)\n",
    "data.dropna(inplace=True)\n",
    "data.drop('text', axis=1)"
   ]
  },
  {
   "cell_type": "markdown",
   "metadata": {},
   "source": [
    "## Split Data to Train and Test"
   ]
  },
  {
   "cell_type": "code",
   "execution_count": 91,
   "metadata": {},
   "outputs": [
    {
     "name": "stdout",
     "output_type": "stream",
     "text": [
      "train_x: 3172\n",
      "train_y: 3172\n",
      "ratio : 0.5\n",
      "test_x: 1058\n",
      "test_y: 1058\n",
      "ratio : 0.499054820415879\n",
      "\n"
     ]
    },
    {
     "name": "stderr",
     "output_type": "stream",
     "text": [
      "/usr/local/lib/python3.6/site-packages/sklearn/utils/validation.py:724: DataConversionWarning: A column-vector y was passed when a 1d array was expected. Please change the shape of y to (n_samples, ), for example using ravel().\n",
      "  y = column_or_1d(y, warn=True)\n"
     ]
    }
   ],
   "source": [
    "from imblearn.over_sampling import RandomOverSampler\n",
    "from sklearn.model_selection import train_test_split\n",
    "\n",
    "np.random.seed(3)\n",
    "\n",
    "data_x = np.array(data['text2']).reshape(-1, 1)\n",
    "data_y = np.array(data['star']).reshape(-1, 1)\n",
    "\n",
    "# Resampling\n",
    "sampler = RandomOverSampler()\n",
    "data_x, data_y = sampler.fit_resample(data_x, data_y)\n",
    "\n",
    "# Split resampled data to train data and test data\n",
    "train_x, test_x, train_y, test_y = train_test_split(data_x, data_y)\n",
    "train_x = train_x.reshape(-1)\n",
    "test_x = test_x.reshape(-1)\n",
    "\n",
    "print('train_x:', len(train_x))\n",
    "print('train_y:', len(train_y))\n",
    "print('ratio :', round(sum(train_y)/len(train_y), 2))\n",
    "print('test_x:', len(test_x))\n",
    "print('test_y:', len(test_y))\n",
    "print('ratio :', sum(test_y)/len(test_y))\n",
    "print()"
   ]
  },
  {
   "cell_type": "markdown",
   "metadata": {},
   "source": [
    "# Model\n",
    "\n",
    "## Bernoulli Naive Bayes"
   ]
  },
  {
   "cell_type": "code",
   "execution_count": 92,
   "metadata": {},
   "outputs": [
    {
     "name": "stdout",
     "output_type": "stream",
     "text": [
      "              precision    recall  f1-score   support\n",
      "\n",
      "           0       0.95      0.78      0.86       530\n",
      "           1       0.81      0.95      0.88       528\n",
      "\n",
      "    accuracy                           0.87      1058\n",
      "   macro avg       0.88      0.87      0.87      1058\n",
      "weighted avg       0.88      0.87      0.87      1058\n",
      "\n"
     ]
    }
   ],
   "source": [
    "from sklearn.pipeline import Pipeline\n",
    "from sklearn.naive_bayes import BernoulliNB\n",
    "from sklearn.metrics import classification_report,confusion_matrix\n",
    "from sklearn.feature_extraction.text import CountVectorizer\n",
    "\n",
    "\n",
    "pipeline = Pipeline([\n",
    "    ('vectorization', CountVectorizer()), \n",
    "    ('model', BernoulliNB())\n",
    "])\n",
    "\n",
    "pipeline.fit(train_x, train_y)\n",
    "pred_y = pipeline.predict(test_x)\n",
    "print(classification_report(test_y, pred_y))"
   ]
  },
  {
   "cell_type": "markdown",
   "metadata": {},
   "source": [
    "## Bernoulli Naive Bayes with TF-IDF"
   ]
  },
  {
   "cell_type": "code",
   "execution_count": 80,
   "metadata": {},
   "outputs": [
    {
     "name": "stdout",
     "output_type": "stream",
     "text": [
      "              precision    recall  f1-score   support\n",
      "\n",
      "           0       0.93      0.74      0.82       530\n",
      "           1       0.78      0.94      0.86       528\n",
      "\n",
      "    accuracy                           0.84      1058\n",
      "   macro avg       0.86      0.84      0.84      1058\n",
      "weighted avg       0.86      0.84      0.84      1058\n",
      "\n"
     ]
    }
   ],
   "source": [
    "from sklearn.feature_extraction.text import TfidfVectorizer\n",
    "\n",
    "pipeline = Pipeline([\n",
    "    ('vectorization', TfidfVectorizer()),\n",
    "#     ('tfidf', TfidfTransformer()),\n",
    "    ('model', BernoulliNB())\n",
    "])\n",
    "\n",
    "pipeline.fit(train_x, train_y)\n",
    "pred_y = pipeline.predict(test_x)\n",
    "print(classification_report(test_y, pred_y))"
   ]
  },
  {
   "cell_type": "code",
   "execution_count": 104,
   "metadata": {},
   "outputs": [
    {
     "data": {
      "text/plain": [
       "BernoulliNB(alpha=1.0, binarize=0.0, class_prior=None, fit_prior=True)"
      ]
     },
     "execution_count": 104,
     "metadata": {},
     "output_type": "execute_result"
    }
   ],
   "source": [
    "dir(pipeline)\n"
   ]
  },
  {
   "cell_type": "code",
   "execution_count": 120,
   "metadata": {},
   "outputs": [
    {
     "name": "stdout",
     "output_type": "stream",
     "text": [
      "[Positive]\n",
      "Index(['great', 'beautiful', 'amazing', 'show', 'fountain', 'fountains',\n",
      "       'strip', 'love', 'vegas', 'best', 'restaurants', 'always', 'casino',\n",
      "       'nice', 'favorite', 'view', 'conservatory', 'gorgeous', 'location',\n",
      "       'garden', 'wonderful', 'clean', 'pool', 'glass', 'lobby', 'loved',\n",
      "       'every', 'awesome', 'stayed', 'flowers', 'buffet', 'place', 'spacious',\n",
      "       'spa', 'friendly', 'ceiling', 'pools', 'comfortable', 'worth', 'area',\n",
      "       'perfect', 'everything', 'definitely', 'fun', 'shopping', 'watch',\n",
      "       'pretty', 'enjoyed', 'music', 'huge'],\n",
      "      dtype='object')\n",
      "\n",
      "[Negative]\n",
      "Index(['people', 'parking', 'since', 'experience', 'hours', 'day', 'nothing',\n",
      "       'next', 'finally', 'took', 'horrible', 'give', 'first', 'call', 'pay',\n",
      "       'way', 'booked', 'came', 'get', 'worst', 'disappointed', 'got',\n",
      "       'checked', 'left', 'paid', 'bad', 'went', 'charge', 'rude', 'better',\n",
      "       'could', 'front', 'customer', 'money', 'manager', 'another', 'check',\n",
      "       'minutes', 'even', 'back', 'service', 'asked', 'never', 'desk', 'would',\n",
      "       'room', 'called', 'said', 'us', 'told'],\n",
      "      dtype='object')\n"
     ]
    }
   ],
   "source": [
    "vectorizer = pipeline.get_params()['vectorization']\n",
    "model = pipeline.get_params()['model']\n",
    "\n",
    "df = pd.DataFrame(model.feature_log_prob_.T,\n",
    "                  columns=['neg', 'pos'],\n",
    "                  index=vectorizer.get_feature_names())\n",
    "\n",
    "df['rank'] = df.apply(lambda x: np.exp(x['neg']) - np.exp(x['pos']), axis=1)\n",
    "df.sort_values('rank', inplace=True)\n",
    "\n",
    "print('[Positive]')\n",
    "print(df.iloc[:50].index)\n",
    "\n",
    "print('\\n[Negative]')\n",
    "print(df.iloc[-50:].index)"
   ]
  }
 ],
 "metadata": {
  "kernelspec": {
   "display_name": "Python 3 (ipykernel)",
   "language": "python",
   "name": "python3"
  },
  "language_info": {
   "codemirror_mode": {
    "name": "ipython",
    "version": 3
   },
   "file_extension": ".py",
   "mimetype": "text/x-python",
   "name": "python",
   "nbconvert_exporter": "python",
   "pygments_lexer": "ipython3",
   "version": "3.10.8"
  },
  "toc": {
   "base_numbering": 1,
   "nav_menu": {},
   "number_sections": true,
   "sideBar": true,
   "skip_h1_title": false,
   "title_cell": "Table of Contents",
   "title_sidebar": "Contents",
   "toc_cell": false,
   "toc_position": {},
   "toc_section_display": true,
   "toc_window_display": false
  }
 },
 "nbformat": 4,
 "nbformat_minor": 4
}
